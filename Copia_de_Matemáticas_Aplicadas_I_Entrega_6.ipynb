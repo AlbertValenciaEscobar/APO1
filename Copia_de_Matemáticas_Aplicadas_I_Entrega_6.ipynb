{
  "nbformat": 4,
  "nbformat_minor": 0,
  "metadata": {
    "colab": {
      "provenance": [],
      "include_colab_link": true
    },
    "kernelspec": {
      "name": "python3",
      "display_name": "Python 3"
    },
    "language_info": {
      "name": "python"
    }
  },
  "cells": [
    {
      "cell_type": "markdown",
      "metadata": {
        "id": "view-in-github",
        "colab_type": "text"
      },
      "source": [
        "<a href=\"https://colab.research.google.com/github/AlbertValenciaEscobar/APO1/blob/main/Copia_de_Matem%C3%A1ticas_Aplicadas_I_Entrega_6.ipynb\" target=\"_parent\"><img src=\"https://colab.research.google.com/assets/colab-badge.svg\" alt=\"Open In Colab\"/></a>"
      ]
    },
    {
      "cell_type": "markdown",
      "metadata": {
        "id": "nRSmik7mnr0u"
      },
      "source": [
        "<img src=http://www.acofi.edu.co/eiei2016/wp-content/uploads/2016/09/Logo-Universidad-ICESI.jpg width=\"300\" height=\"200\" align=\"center\">\n",
        "\n",
        "#**<big><big>Matemáticas Aplicadas I</big></big><br><small>Depto. Matemáticas & Estadística / Facultad de Ingeniería</small><br><small>_*Entrega 6*_ (Teoría de operadores integrales). </small>**\n",
        "\n",
        "A continuación se le pide contestar o resolver por grupo las siguientes preguntas, utilizando una copia del presente cuaderno para consignar todas sus respuestas con el formato requerido.\n",
        "\n",
        "\n",
        "\n",
        "La entrega está para el día **jueves 14 de Noviembre** y dos grupos estarán encargados de socializar sus resultados.\n",
        "\n",
        "**<u>Preguntas</u>**\n",
        "\n",
        "A continuación encuentra separadas por celda cada pregunta, así usted solo debe continuar escribiendo en la celda para dar cada respuesta. No olvide que todas sus respuestas deben ir acompañadas de al menos un argumento geométrico o numérico y uno algebráico o en lenguaje natural.\n"
      ]
    },
    {
      "cell_type": "markdown",
      "metadata": {
        "id": "PbqespRApARN"
      },
      "source": [
        "1. (20 ptos) *Ejemplos de integrales.*\n",
        "\n",
        "  1.1 Encuentre una estimación de la masa de la varilla $R (x, [1,5])$ discutida en la Seccción 6.1b del libro de Lax al subdividir la varilla en:\n",
        "\n",
        "  (a) cuatro subpiezas de igual longitud,\n",
        "  (b) ocho subpiezas de igual longitud.\n",
        "  ¿Son mejores estas estimaciones a la del ejemplo? ¿Por qué?\n",
        "\n",
        "  1.2 Encuentre mejores estimaciones superior e inferior para el área $A (x^2 +1, [−1,2])$ discutida en la Sección 6.1c del libro de Lax, subdividiendo $[−1,2]$ en seis subintervalos de igual longitud.\n",
        "\n",
        "  1.3 En este problema exploramos el área con signo o área neta por encima del eje $x$.\n",
        "\n",
        "  (a) En un applet de GeoGebra construya la gráfica de $f (x) = x^2−1$ en el intervalo $[−3,2]$.\n",
        "  \n",
        "  (b) Sea $A (x^2 −1, [a, b])$ el área con signo como se describe en la Sección. 6.1d. Diseñe un applet en GeoGebra que sombree o muestre  utilizando diferentes colores  cuáles de las siguientes áreas son claramente positivas, claramente negativas o difíciles de determinar\n",
        "sin algún cálculo:\n",
        "\n",
        "  (i) $A (x^2 −1, [−3, −2])$\n",
        "  (ii) $A (x^2 −1, [−2,0])$\n",
        "  (iii) $A (x^2 −1, [−1,0])$\n",
        "  (iv) $A (x^2 −1, [0,2])$\n",
        "  \n",
        "  (c) Encuentre estimaciones superior e inferior para $A (x^2 −1, [−3,2])$ usando cinco subintervalos de misma longitud."
      ]
    },
    {
      "cell_type": "markdown",
      "source": [
        "  ## 1.3 En este problema exploramos el área con signo o área neta por encima del eje $x$.\n",
        "\n",
        "  **(a) En un applet de GeoGebra construya la gráfica de $f (x) = x^2−1$ en el intervalo $[−3,2]$.**"
      ],
      "metadata": {
        "id": "a5V_uwNudNqw"
      }
    },
    {
      "cell_type": "code",
      "source": [
        "from IPython.display import IFrame\n",
        "\n",
        "url = \"https://www.geogebra.org/classic?lang=es\"\n",
        "\n",
        "IFrame(url, width=800, height=600)\n"
      ],
      "metadata": {
        "colab": {
          "base_uri": "https://localhost:8080/",
          "height": 621
        },
        "id": "vAnLyEYIZI0S",
        "outputId": "46f46062-12b2-4624-d721-a1639c30f777"
      },
      "execution_count": 6,
      "outputs": [
        {
          "output_type": "execute_result",
          "data": {
            "text/plain": [
              "<IPython.lib.display.IFrame at 0x7d748d10b340>"
            ],
            "text/html": [
              "\n",
              "        <iframe\n",
              "            width=\"800\"\n",
              "            height=\"600\"\n",
              "            src=\"https://www.geogebra.org/classic?lang=es\"\n",
              "            frameborder=\"0\"\n",
              "            allowfullscreen\n",
              "            \n",
              "        ></iframe>\n",
              "        "
            ]
          },
          "metadata": {},
          "execution_count": 6
        }
      ]
    },
    {
      "cell_type": "markdown",
      "source": [
        "En la grafica de geogebra se puede ver la grafica de la funcion $f(x)=x^2-1$ en el intervalo cerrado $[-3,2]$, se puede ver que es una funcion exponencial devido a que es un polinomio cuadratico y el la grafica tiene forma de parabola, tiene dos cortes en el eje x (uno en $[1,0]$ y el otro en $[-1,0]$), su vertice es en la cordena $[0,-1]$ y que es concava hacia arriva, devido a que el coeficiente $x$ (que es el que esta elevado al cuadrado) es positivo."
      ],
      "metadata": {
        "id": "tqUJI-QHdt_6"
      }
    },
    {
      "cell_type": "markdown",
      "source": [],
      "metadata": {
        "id": "-QYG0LEfmxr-"
      }
    },
    {
      "cell_type": "markdown",
      "source": [
        "**(b) Sea $A (x^2 −1, [a, b])$ el área con signo como se describe en la Sección. 6.1d. Diseñe un applet en GeoGebra que sombree o muestre  utilizando diferentes colores  cuáles de las siguientes áreas son claramente positivas, claramente negativas o difíciles de determinar\n",
        "sin algún cálculo:**\n",
        "\n",
        "  (i) $A (x^2 −1, [−3, −2])$\n",
        "  (ii) $A (x^2 −1, [−2,0])$\n",
        "  (iii) $A (x^2 −1, [−1,0])$\n",
        "  (iv) $A (x^2 −1, [0,2])$"
      ],
      "metadata": {
        "id": "x3BFZv2Xf5lV"
      }
    },
    {
      "cell_type": "code",
      "source": [
        "url = \"https://www.geogebra.org/classic?lang=es\"\n",
        "\n",
        "IFrame(url, width=800, height=600)"
      ],
      "metadata": {
        "colab": {
          "base_uri": "https://localhost:8080/",
          "height": 621
        },
        "id": "xu9GUWs4gA2e",
        "outputId": "021f4a59-c973-4559-f0db-66656ef54aab"
      },
      "execution_count": 8,
      "outputs": [
        {
          "output_type": "execute_result",
          "data": {
            "text/plain": [
              "<IPython.lib.display.IFrame at 0x7d748cc501c0>"
            ],
            "text/html": [
              "\n",
              "        <iframe\n",
              "            width=\"800\"\n",
              "            height=\"600\"\n",
              "            src=\"https://www.geogebra.org/classic?lang=es\"\n",
              "            frameborder=\"0\"\n",
              "            allowfullscreen\n",
              "            \n",
              "        ></iframe>\n",
              "        "
            ]
          },
          "metadata": {},
          "execution_count": 8
        }
      ]
    },
    {
      "cell_type": "markdown",
      "source": [
        "Para esta grafica estableci cada interbalo con una letra en el orden del abecedario. Comenzando por $A$ encontramos que su area es claramente positiva porque predomina por ensima del eje x, para el intervalo $C$ se puede ver que en este caso es claramente negativa ya que no hay cruce en el eje x. Ahora tenemos los intervalos $B$ y $D$ los cuales son dificiles de determinar ya que cruzan el eje x, esto provoca que dividamos el intervalo en subintervalos donde esta es positiva y donde no lo es. Comenzando por el intervalo $B$ encontramos que es positiva en $[-2,-1]$ y negativa en $[-1,0]$, y por parte del intervalo $D$ es negativa en $[0,1]$ y positiva en $[1,2]$."
      ],
      "metadata": {
        "id": "30U-J8_Xl7UT"
      }
    },
    {
      "cell_type": "markdown",
      "source": [
        " **(c) Encuentre estimaciones superior e inferior para $A (x^2 −1, [−3,2])$ usando cinco subintervalos de misma longitud.**"
      ],
      "metadata": {
        "id": "D_LVWO9vmAh3"
      }
    },
    {
      "cell_type": "markdown",
      "source": [
        "Para hacer esto primero tenemos que dividir el intervalo en 5 partes iguales:\n",
        "\n",
        "$△x=\\frac{2-(-3)}{5}=1$\n",
        "\n",
        "$△x$ que nos representa la distancia que tiene que tener cada intervalo para que sean equidistantes.\n",
        "\n",
        "Los intervalos son los siguientes:\n",
        "\n",
        "$[-3,-2],[-2,-1],[-1,0],[0,1],[1,2]$\n",
        "\n",
        "Ahora simplemente tenemos que definir la estimacion de $A(x^2-1,[-3,2])$ usando estos intervalos, para ello voy a usar el siguiente codigo.\n",
        "\n",
        "Lo que hace el codigo basicamente es castear cada estremo de los subintervalos en la funcion, y luego el resultado lo multiplica por el tamaño del intervalo, de esta manera saca el area de cada triangulo de cada intervalo y solo hay que sumarlos para saber cual es la estimacion. Para saber la estimacion mayor hay que sumar todas las areas que se hallan sacado con el valor final de cada subintervalo, y para sacar la estimacion menor se hace con el primer valor de cada subintervalo."
      ],
      "metadata": {
        "id": "EVswcT8CnTjT"
      }
    },
    {
      "cell_type": "code",
      "source": [
        "import numpy as np\n",
        "\n",
        "# Definimos la función f(x) = x^2 - 1\n",
        "def f(x):\n",
        "    return x**2 - 1\n",
        "\n",
        "# Intervalo y número de subintervalos\n",
        "a, b = -3, 2\n",
        "n = 5  # cinco subintervalos de igual longitud\n",
        "\n",
        "# Longitud de cada subintervalo\n",
        "delta_x = (b - a) / n\n",
        "\n",
        "# Puntos de evaluación\n",
        "x_values = np.linspace(a, b, n + 1)  # puntos de los extremos de cada subintervalo\n",
        "\n",
        "# Calculamos las áreas inferior y superior\n",
        "# Área inferior: f en el inicio de cada subintervalo\n",
        "# Área superior: f en el final de cada subintervalo\n",
        "lower_sum = sum(f(x_values[i]) * delta_x for i in range(n))  # usando el inicio de cada subintervalo\n",
        "upper_sum = sum(f(x_values[i + 1]) * delta_x for i in range(n))  # usando el final de cada subintervalo\n",
        "\n",
        "print(\"Estimacion inferior: \",lower_sum)\n",
        "print(\"Estimacion superior: \",upper_sum)\n"
      ],
      "metadata": {
        "colab": {
          "base_uri": "https://localhost:8080/"
        },
        "id": "jR8ac2lEqD9j",
        "outputId": "a9324822-2c72-4b0b-87e0-fd32361a41b6"
      },
      "execution_count": 16,
      "outputs": [
        {
          "output_type": "stream",
          "name": "stdout",
          "text": [
            "Estimacion inferior:  10.0\n",
            "Estimacion superior:  5.0\n"
          ]
        }
      ]
    },
    {
      "cell_type": "markdown",
      "source": [
        "Estas aproximaciones nos brindan un rango dentro del cual se encuentra el área neta bajo la curva en el intervalo $[−3,2]$."
      ],
      "metadata": {
        "id": "XrglmU4v-d-x"
      }
    },
    {
      "cell_type": "markdown",
      "metadata": {
        "id": "Eij5k5rSppTZ"
      },
      "source": [
        "2. (24 ptos) **Aproximación de integrales**. Considere la siguiente definición del libro de Lax:\n",
        "\n",
        "  **Definición 6.1.** Elija cualquier punto $t_i$ en el intervalo $[a_{i − 1}, a_i], i = 1,2,. . . , n$, y forme la suma  \n",
        "  $$I_{approx}(f, [a, b]) = f (t_1) (a_1 − a_0) + f (t_2) (a_2 − a_1) + · · · + f (t_n) (a_n −a_{n − 1}).$$\n",
        "\n",
        "  La suma $I_{approx}$ se llama integral aproximada de $f$ en $[a, b]$ o una suma de *Riemann* de $f$ en $[a, b].$\n",
        "\n",
        "  2.1 Diseñe un applet en GeoGebra que permita interpretar geométricamente el significado de  $I_{approx}$ con respecto al área bajo la curva $f(x)=x^2+x$ en el intervalo $[0,3]$ escogiendo al menos tres diferentes particiones del intervalo. Por ejemplo, una partición puede estar definida por $a_0=0,a_1=1,a_2=2,a_3=3$.\n",
        "\n",
        "   2.2 Implemente una función o código en python que le permita calcular  el valor de $I_{approx}$.  Piense en como lograr una precisión de al menos $10^{-6}$, si el valor exacto es $I_{approx}$ es 13.5. Sustente geométrica o algebráicamente su respuesta.\n",
        "\n",
        "   2.3 Repita los punto 2.1 y 2.2 sobre los intervalos $[-1,0]$ y $[-2,0]$."
      ]
    },
    {
      "cell_type": "markdown",
      "metadata": {
        "id": "JCM5XEGt1BPc"
      },
      "source": [
        "3. (6 puntos) Suponga que $f$ es integrable sobre $[a,b]$. Sean $m$ y $M$ constantes tales que $$m\\leq f(x)\\leq M$$ para todo $x\\in[a,b]$. Muestre o argumente por qué\n",
        "\n",
        "$$m(b-a)\\leq \\int_a^b f(x)\\,dx\\leq M(b-a),$$\n",
        "\n",
        "donde $\\int_a^bf(x)\\,dx$ denota la integral definida de $f$ sobre  $[a,b]$."
      ]
    },
    {
      "cell_type": "markdown",
      "metadata": {
        "id": "wJic-AP9pEcR"
      },
      "source": [
        "**La entrega solo se acepta en el formato de un cuaderno python colab .**"
      ]
    }
  ]
}